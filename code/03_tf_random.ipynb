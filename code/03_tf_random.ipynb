{
  "nbformat": 4,
  "nbformat_minor": 0,
  "metadata": {
    "colab": {
      "name": "03-tf-random.ipynb",
      "provenance": [],
      "collapsed_sections": [],
      "authorship_tag": "ABX9TyNo7RwLzLtPBx/2qNj65OLp",
      "include_colab_link": true
    },
    "kernelspec": {
      "name": "python3",
      "display_name": "Python 3"
    }
  },
  "cells": [
    {
      "cell_type": "markdown",
      "metadata": {
        "id": "view-in-github",
        "colab_type": "text"
      },
      "source": [
        "<a href=\"https://colab.research.google.com/github/quf7047/2020-2-AI/blob/main/code/03_tf_random.ipynb\" target=\"_parent\"><img src=\"https://colab.research.google.com/assets/colab-badge.svg\" alt=\"Open In Colab\"/></a>"
      ]
    },
    {
      "cell_type": "code",
      "metadata": {
        "id": "I4xsyoFuNsK_",
        "outputId": "471457a4-8c01-49cf-9e4a-fa57d5ef9b0b",
        "colab": {
          "base_uri": "https://localhost:8080/",
          "height": 35
        }
      },
      "source": [
        "import tensorflow as tf\n",
        "tf.__version__"
      ],
      "execution_count": null,
      "outputs": [
        {
          "output_type": "execute_result",
          "data": {
            "application/vnd.google.colaboratory.intrinsic+json": {
              "type": "string"
            },
            "text/plain": [
              "'2.3.0'"
            ]
          },
          "metadata": {
            "tags": []
          },
          "execution_count": 4
        }
      ]
    },
    {
      "cell_type": "code",
      "metadata": {
        "id": "ylpzL5F9NB9w",
        "outputId": "6af59d61-b232-4240-d650-3a7e6d077767",
        "colab": {
          "base_uri": "https://localhost:8080/",
          "height": 35
        }
      },
      "source": [
        "# 3.7 랜덤한 수 얻기 (균일 분포)\n",
        "rand = tf.random.uniform([1], 0, 1)\n",
        "print(rand)"
      ],
      "execution_count": null,
      "outputs": [
        {
          "output_type": "stream",
          "text": [
            "tf.Tensor([0.5868405], shape=(1,), dtype=float32)\n"
          ],
          "name": "stdout"
        }
      ]
    },
    {
      "cell_type": "code",
      "metadata": {
        "id": "e2zO3U6DNOFN",
        "outputId": "56dcb004-6114-4b26-f4f8-6d50d6964ce5",
        "colab": {
          "base_uri": "https://localhost:8080/",
          "height": 125
        }
      },
      "source": [
        "rand = tf.random.uniform([5, 4], 0, 1)\n",
        "print(rand)"
      ],
      "execution_count": null,
      "outputs": [
        {
          "output_type": "stream",
          "text": [
            "tf.Tensor(\n",
            "[[0.18626261 0.5795721  0.14126277 0.06061864]\n",
            " [0.88260746 0.0624516  0.72283685 0.56717205]\n",
            " [0.5409541  0.34106946 0.01964629 0.23575366]\n",
            " [0.90623283 0.43578887 0.9129578  0.35810745]\n",
            " [0.9319123  0.31368923 0.13186336 0.63711584]], shape=(5, 4), dtype=float32)\n"
          ],
          "name": "stdout"
        }
      ]
    },
    {
      "cell_type": "code",
      "metadata": {
        "id": "qrejEy4-NTgI",
        "outputId": "849b2cee-a55b-48bc-870d-cef76a469987",
        "colab": {
          "base_uri": "https://localhost:8080/",
          "height": 71
        }
      },
      "source": [
        "rand = tf.random.uniform([1000], 0, 10)\n",
        "print(rand[:10])"
      ],
      "execution_count": null,
      "outputs": [
        {
          "output_type": "stream",
          "text": [
            "tf.Tensor(\n",
            "[4.717289  6.149051  7.52007   2.4605143 9.146123  7.9422865 3.988111\n",
            " 6.5906706 8.619631  6.9276857], shape=(10,), dtype=float32)\n"
          ],
          "name": "stdout"
        }
      ]
    },
    {
      "cell_type": "code",
      "metadata": {
        "id": "TmotQvCpNZWL",
        "outputId": "45af96de-f578-4905-f1fa-1ed9f41f899a",
        "colab": {
          "base_uri": "https://localhost:8080/",
          "height": 373
        }
      },
      "source": [
        "import matplotlib.pyplot as plt\n",
        "rand = tf.random.uniform([10000], 0, 50)\n",
        "plt.hist(rand, bins=10)"
      ],
      "execution_count": null,
      "outputs": [
        {
          "output_type": "execute_result",
          "data": {
            "text/plain": [
              "(array([ 961.,  977., 1002., 1008., 1063.,  967., 1028.,  981.,  999.,\n",
              "        1014.]),\n",
              " array([3.4570694e-04, 5.0001192e+00, 9.9998932e+00, 1.4999666e+01,\n",
              "        1.9999439e+01, 2.4999214e+01, 2.9998987e+01, 3.4998760e+01,\n",
              "        3.9998535e+01, 4.4998306e+01, 4.9998081e+01], dtype=float32),\n",
              " <a list of 10 Patch objects>)"
            ]
          },
          "metadata": {
            "tags": []
          },
          "execution_count": 10
        },
        {
          "output_type": "display_data",
          "data": {
            "image/png": "[encoded data removed]",
            "text/plain": [
              "<Figure size 432x288 with 1 Axes>"
            ]
          },
          "metadata": {
            "tags": [],
            "needs_background": "light"
          }
        }
      ]
    },
    {
      "cell_type": "code",
      "metadata": {
        "id": "knxAxRipN0lU",
        "outputId": "d0674f54-eeeb-4db2-c842-d4b9df258a0e",
        "colab": {
          "base_uri": "https://localhost:8080/",
          "height": 35
        }
      },
      "source": [
        "# 3.9 랜덤한 수 여러 개 얻기 (정규 분포)\n",
        "rand = tf.random.normal([4], 0, 1)\n",
        "print(rand)"
      ],
      "execution_count": null,
      "outputs": [
        {
          "output_type": "stream",
          "text": [
            "tf.Tensor([ 0.22455226  1.1168767  -0.49508116  0.3309497 ], shape=(4,), dtype=float32)\n"
          ],
          "name": "stdout"
        }
      ]
    },
    {
      "cell_type": "code",
      "metadata": {
        "id": "WIsDl00JOGaR",
        "outputId": "4b4543f9-f95b-4b87-ccfb-c81a8a18b2bc",
        "colab": {
          "base_uri": "https://localhost:8080/",
          "height": 71
        }
      },
      "source": [
        "# 3.9 랜덤한 수 여러 개 얻기 (정규 분포)\n",
        "rand = tf.random.normal([2, 4], 0, 2)\n",
        "print(rand)"
      ],
      "execution_count": null,
      "outputs": [
        {
          "output_type": "stream",
          "text": [
            "tf.Tensor(\n",
            "[[-2.3681438  -2.8214736  -0.8202637   1.6991954 ]\n",
            " [ 0.38973692 -1.0900859   3.522343    3.3989675 ]], shape=(2, 4), dtype=float32)\n"
          ],
          "name": "stdout"
        }
      ]
    },
    {
      "cell_type": "code",
      "metadata": {
        "id": "UR-ghl80ORDG",
        "outputId": "e6d3a495-aae0-4b3c-9d0a-0252b524ad15",
        "colab": {
          "base_uri": "https://localhost:8080/",
          "height": 355
        }
      },
      "source": [
        "import matplotlib.pyplot as plt\n",
        "rand = tf.random.normal([100], 0, 1)\n",
        "plt.hist(rand, bins=10)"
      ],
      "execution_count": null,
      "outputs": [
        {
          "output_type": "execute_result",
          "data": {
            "text/plain": [
              "(array([ 1.,  2.,  4., 15., 14., 22., 17., 15.,  6.,  4.]),\n",
              " array([-2.735148  , -2.2373924 , -1.7396367 , -1.241881  , -0.74412537,\n",
              "        -0.24636972,  0.25138593,  0.7491416 ,  1.2468972 ,  1.7446529 ,\n",
              "         2.2424085 ], dtype=float32),\n",
              " <a list of 10 Patch objects>)"
            ]
          },
          "metadata": {
            "tags": []
          },
          "execution_count": 13
        },
        {
          "output_type": "display_data",
          "data": {
            "image/png": "[encoded data removed]",
            "text/plain": [
              "<Figure size 432x288 with 1 Axes>"
            ]
          },
          "metadata": {
            "tags": [],
            "needs_background": "light"
          }
        }
      ]
    },
    {
      "cell_type": "code",
      "metadata": {
        "id": "BpJKWo3YObXL",
        "outputId": "935b1d75-06d8-40ff-cab1-18aed45e8a00",
        "colab": {
          "base_uri": "https://localhost:8080/",
          "height": 895
        }
      },
      "source": [
        "import matplotlib.pyplot as plt\n",
        "rand1 = tf.random.normal([1000], 0, 1)\n",
        "rand2 = tf.random.uniform([2000], 0, 1)\n",
        "plt.hist(rand1, bins=100)\n",
        "plt.hist(rand2, bins=100)"
      ],
      "execution_count": null,
      "outputs": [
        {
          "output_type": "execute_result",
          "data": {
            "text/plain": [
              "(array([21., 17., 14., 19., 22., 14., 29., 21., 11., 20., 19., 15., 18.,\n",
              "        19., 20., 19., 11., 19., 28., 18., 24., 24., 25., 17., 23., 21.,\n",
              "        22., 21., 25., 21., 29., 22.,  9., 19., 16., 19., 22., 23., 22.,\n",
              "        18., 21., 19., 26., 17., 22., 11., 22., 25., 19., 16., 25., 20.,\n",
              "        21., 28., 23., 14., 22., 18., 19., 20., 18., 22., 16., 18., 27.,\n",
              "        23., 14., 19., 12., 19., 20., 14., 23., 17., 23., 19., 21., 19.,\n",
              "        17., 15., 16., 19., 16., 22., 18., 22., 25., 31., 17., 19., 26.,\n",
              "        17., 32., 24., 25., 11., 18., 23., 20., 19.]),\n",
              " array([9.20772552e-04, 1.09037207e-02, 2.08866689e-02, 3.08696181e-02,\n",
              "        4.08525653e-02, 5.08355126e-02, 6.08184636e-02, 7.08014071e-02,\n",
              "        8.07843581e-02, 9.07673091e-02, 1.00750253e-01, 1.10733204e-01,\n",
              "        1.20716155e-01, 1.30699098e-01, 1.40682042e-01, 1.50665000e-01,\n",
              "        1.60647944e-01, 1.70630887e-01, 1.80613846e-01, 1.90596789e-01,\n",
              "        2.00579733e-01, 2.10562691e-01, 2.20545635e-01, 2.30528578e-01,\n",
              "        2.40511537e-01, 2.50494480e-01, 2.60477424e-01, 2.70460367e-01,\n",
              "        2.80443311e-01, 2.90426284e-01, 3.00409228e-01, 3.10392171e-01,\n",
              "        3.20375115e-01, 3.30358058e-01, 3.40341002e-01, 3.50323975e-01,\n",
              "        3.60306919e-01, 3.70289862e-01, 3.80272806e-01, 3.90255749e-01,\n",
              "        4.00238693e-01, 4.10221666e-01, 4.20204610e-01, 4.30187553e-01,\n",
              "        4.40170497e-01, 4.50153440e-01, 4.60136384e-01, 4.70119357e-01,\n",
              "        4.80102301e-01, 4.90085244e-01, 5.00068188e-01, 5.10051131e-01,\n",
              "        5.20034075e-01, 5.30017018e-01, 5.39999962e-01, 5.49982905e-01,\n",
              "        5.59965849e-01, 5.69948852e-01, 5.79931796e-01, 5.89914739e-01,\n",
              "        5.99897683e-01, 6.09880626e-01, 6.19863570e-01, 6.29846513e-01,\n",
              "        6.39829457e-01, 6.49812400e-01, 6.59795344e-01, 6.69778287e-01,\n",
              "        6.79761231e-01, 6.89744234e-01, 6.99727178e-01, 7.09710121e-01,\n",
              "        7.19693065e-01, 7.29676008e-01, 7.39658952e-01, 7.49641895e-01,\n",
              "        7.59624839e-01, 7.69607782e-01, 7.79590726e-01, 7.89573669e-01,\n",
              "        7.99556613e-01, 8.09539557e-01, 8.19522560e-01, 8.29505503e-01,\n",
              "        8.39488447e-01, 8.49471390e-01, 8.59454334e-01, 8.69437277e-01,\n",
              "        8.79420221e-01, 8.89403164e-01, 8.99386108e-01, 9.09369051e-01,\n",
              "        9.19351995e-01, 9.29334939e-01, 9.39317942e-01, 9.49300885e-01,\n",
              "        9.59283829e-01, 9.69266772e-01, 9.79249716e-01, 9.89232659e-01,\n",
              "        9.99215603e-01], dtype=float32),\n",
              " <a list of 100 Patch objects>)"
            ]
          },
          "metadata": {
            "tags": []
          },
          "execution_count": 14
        },
        {
          "output_type": "display_data",
          "data": {
            "image/png": "[encoded data removed]",
            "text/plain": [
              "<Figure size 432x288 with 1 Axes>"
            ]
          },
          "metadata": {
            "tags": [],
            "needs_background": "light"
          }
        }
      ]
    },
    {
      "cell_type": "code",
      "metadata": {
        "id": "FGuW73FpOsaN",
        "outputId": "f7714dc8-3f8b-40fd-c83a-312e783a8c98",
        "colab": {
          "base_uri": "https://localhost:8080/",
          "height": 1000
        }
      },
      "source": [
        "import matplotlib.pyplot as plt\n",
        "rand1 = tf.random.normal([1000], 0, 1)\n",
        "rand2 = tf.random.uniform([2000], 0, 1)\n",
        "\n",
        "plt.rcParams[\"figure.figsize\"] = (12, 6)\n",
        "fig, axes = plt.subplots(1, 2, sharex=True, sharey=True)\n",
        "axes[0].hist(rand1, bins=100)\n",
        "axes[1].hist(rand2, bins=100)"
      ],
      "execution_count": null,
      "outputs": [
        {
          "output_type": "execute_result",
          "data": {
            "text/plain": [
              "(array([26., 18., 18., 22., 15., 20., 20., 14., 17., 20., 21., 15., 20.,\n",
              "        25., 17., 15., 18., 23., 14., 17., 25., 26., 30., 20., 17., 12.,\n",
              "        21., 16., 22., 23., 24., 26., 22., 13., 25., 32., 23., 21., 19.,\n",
              "        17., 20., 30., 21., 17., 20., 17., 19., 22., 15., 25., 22., 24.,\n",
              "        18., 21., 11., 13., 17., 20., 16.,  9., 20., 18., 19., 19., 13.,\n",
              "        27., 20., 30., 16., 20., 19., 26., 20., 19., 21., 20., 21., 16.,\n",
              "        22., 20., 20., 20., 12., 22., 15., 15., 25., 25., 21., 15., 19.,\n",
              "        23., 22., 22., 21., 20., 26., 19., 26., 20.]),\n",
              " array([6.3300133e-05, 1.0062427e-02, 2.0061554e-02, 3.0060682e-02,\n",
              "        4.0059809e-02, 5.0058939e-02, 6.0058065e-02, 7.0057191e-02,\n",
              "        8.0056317e-02, 9.0055443e-02, 1.0005458e-01, 1.1005370e-01,\n",
              "        1.2005283e-01, 1.3005196e-01, 1.4005108e-01, 1.5005021e-01,\n",
              "        1.6004933e-01, 1.7004846e-01, 1.8004759e-01, 1.9004673e-01,\n",
              "        2.0004585e-01, 2.1004498e-01, 2.2004411e-01, 2.3004323e-01,\n",
              "        2.4004236e-01, 2.5004148e-01, 2.6004061e-01, 2.7003974e-01,\n",
              "        2.8003886e-01, 2.9003799e-01, 3.0003712e-01, 3.1003624e-01,\n",
              "        3.2003537e-01, 3.3003449e-01, 3.4003362e-01, 3.5003275e-01,\n",
              "        3.6003187e-01, 3.7003100e-01, 3.8003016e-01, 3.9002928e-01,\n",
              "        4.0002841e-01, 4.1002753e-01, 4.2002666e-01, 4.3002579e-01,\n",
              "        4.4002491e-01, 4.5002404e-01, 4.6002316e-01, 4.7002229e-01,\n",
              "        4.8002142e-01, 4.9002054e-01, 5.0001967e-01, 5.1001883e-01,\n",
              "        5.2001792e-01, 5.3001708e-01, 5.4001617e-01, 5.5001533e-01,\n",
              "        5.6001443e-01, 5.7001358e-01, 5.8001268e-01, 5.9001184e-01,\n",
              "        6.0001093e-01, 6.1001009e-01, 6.2000918e-01, 6.3000834e-01,\n",
              "        6.4000744e-01, 6.5000659e-01, 6.6000569e-01, 6.7000484e-01,\n",
              "        6.8000394e-01, 6.9000310e-01, 7.0000219e-01, 7.1000135e-01,\n",
              "        7.2000045e-01, 7.2999960e-01, 7.3999870e-01, 7.4999785e-01,\n",
              "        7.5999701e-01, 7.6999611e-01, 7.7999526e-01, 7.8999436e-01,\n",
              "        7.9999352e-01, 8.0999261e-01, 8.1999177e-01, 8.2999086e-01,\n",
              "        8.3999002e-01, 8.4998912e-01, 8.5998827e-01, 8.6998737e-01,\n",
              "        8.7998652e-01, 8.8998562e-01, 8.9998478e-01, 9.0998387e-01,\n",
              "        9.1998303e-01, 9.2998213e-01, 9.3998128e-01, 9.4998038e-01,\n",
              "        9.5997953e-01, 9.6997863e-01, 9.7997779e-01, 9.8997688e-01,\n",
              "        9.9997604e-01], dtype=float32),\n",
              " <a list of 100 Patch objects>)"
            ]
          },
          "metadata": {
            "tags": []
          },
          "execution_count": 15
        },
        {
          "output_type": "display_data",
          "data": {
            "image/png": "[encoded data removed]",
            "text/plain": [
              "<Figure size 864x432 with 2 Axes>"
            ]
          },
          "metadata": {
            "tags": [],
            "needs_background": "light"
          }
        }
      ]
    },
    {
      "cell_type": "code",
      "metadata": {
        "id": "egpMcu_hQOhs",
        "outputId": "f2a07714-ab98-4c3c-f956-a9707b2d6ff9",
        "colab": {
          "base_uri": "https://localhost:8080/",
          "height": 53
        }
      },
      "source": [
        "import numpy as np\n",
        "a = np.arange(10)\n",
        "print(a)\n",
        "tf.random.shuffle(a)"
      ],
      "execution_count": null,
      "outputs": [
        {
          "output_type": "stream",
          "text": [
            "[0 1 2 3 4 5 6 7 8 9]\n"
          ],
          "name": "stdout"
        },
        {
          "output_type": "execute_result",
          "data": {
            "text/plain": [
              "<tf.Tensor: shape=(10,), dtype=int64, numpy=array([7, 8, 6, 0, 5, 3, 4, 9, 1, 2])>"
            ]
          },
          "metadata": {
            "tags": []
          },
          "execution_count": 16
        }
      ]
    },
    {
      "cell_type": "code",
      "metadata": {
        "id": "B9RqsLsHQUtd",
        "outputId": "6774b208-fa09-46a5-8da5-33ae7b38cb13",
        "colab": {
          "base_uri": "https://localhost:8080/",
          "height": 89
        }
      },
      "source": [
        "import numpy as np\n",
        "a = np.arange(20).reshape(4, 5)\n",
        "a"
      ],
      "execution_count": null,
      "outputs": [
        {
          "output_type": "execute_result",
          "data": {
            "text/plain": [
              "array([[ 0,  1,  2,  3,  4],\n",
              "       [ 5,  6,  7,  8,  9],\n",
              "       [10, 11, 12, 13, 14],\n",
              "       [15, 16, 17, 18, 19]])"
            ]
          },
          "metadata": {
            "tags": []
          },
          "execution_count": 17
        }
      ]
    },
    {
      "cell_type": "code",
      "metadata": {
        "id": "gson1DzNQZVf",
        "outputId": "59838236-e71f-4b56-84c8-46320bbdf5f0",
        "colab": {
          "base_uri": "https://localhost:8080/",
          "height": 107
        }
      },
      "source": [
        "tf.random.shuffle(a)"
      ],
      "execution_count": null,
      "outputs": [
        {
          "output_type": "execute_result",
          "data": {
            "text/plain": [
              "<tf.Tensor: shape=(4, 5), dtype=int64, numpy=\n",
              "array([[15, 16, 17, 18, 19],\n",
              "       [ 5,  6,  7,  8,  9],\n",
              "       [ 0,  1,  2,  3,  4],\n",
              "       [10, 11, 12, 13, 14]])>"
            ]
          },
          "metadata": {
            "tags": []
          },
          "execution_count": 20
        }
      ]
    }
  ]
}